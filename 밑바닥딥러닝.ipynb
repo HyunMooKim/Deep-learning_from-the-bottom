{
  "nbformat": 4,
  "nbformat_minor": 0,
  "metadata": {
    "colab": {
      "provenance": [],
      "authorship_tag": "ABX9TyM3bOeVImFSrXV2VOTJ0OfZ",
      "include_colab_link": true
    },
    "kernelspec": {
      "name": "python3",
      "display_name": "Python 3"
    },
    "language_info": {
      "name": "python"
    }
  },
  "cells": [
    {
      "cell_type": "markdown",
      "metadata": {
        "id": "view-in-github",
        "colab_type": "text"
      },
      "source": [
        "<a href=\"https://colab.research.google.com/github/HyunMooKim/Deep-learning_from-the-bottom/blob/main/%EB%B0%91%EB%B0%94%EB%8B%A5%EB%94%A5%EB%9F%AC%EB%8B%9D.ipynb\" target=\"_parent\"><img src=\"https://colab.research.google.com/assets/colab-badge.svg\" alt=\"Open In Colab\"/></a>"
      ]
    },
    {
      "cell_type": "markdown",
      "source": [
        "<h1>밑바닥부터 시작하는 딥러닝 1 </h1>"
      ],
      "metadata": {
        "id": "rUx8wY0ClSjr"
      }
    },
    {
      "cell_type": "markdown",
      "source": [
        "# 2장 퍼셉트론\n",
        "AND, OR, NAND, XOR\n",
        "등 가장 기본적 논리구조를 표현하는 방식\n",
        "\n",
        " W.dot(x) + b 형태는 SVM 의 손실함수와 비슷한 형태\n"
      ],
      "metadata": {
        "id": "8hQxesAaj14Q"
      }
    },
    {
      "cell_type": "code",
      "source": [
        "# 퍼셉트론\n",
        "import numpy as np\n",
        "\n",
        "# np.array() 는 리스트를 받아서 배열로 만들어준다.\n",
        "# np.sum()은 모든 원소의 총합을 구한다.\n",
        "# 가중치 w는 각 신호의 영향력을, bias 편향력은 얼마나 쉽게 퍼셉트론이 활성화되는지를 나타낸다.\n",
        "\n",
        "def AND(x1,x2):\n",
        "  x = np.array([x1,x2])\n",
        "  w = np.array([0.5,0.5])\n",
        "  b = -0.7   # 0.5 하나론 못넘고, 두개로는 넘어야함.\n",
        "  tmp = np.sum(w*x)  + b\n",
        "  if tmp <= 0:\n",
        "    return 0\n",
        "  else:\n",
        "    return 1\n",
        "\n",
        "def NAND(x1,x2):\n",
        "  x = np.array([x1,x2])\n",
        "  w = np.array([-0.5, -0.5]) #AND에 bias와 가중치 부호 반대로 하면 된다.\n",
        "  b =  0.7\n",
        "  tmp = np.sum(w*x)  + b\n",
        "  if tmp <= 0:\n",
        "    return 0\n",
        "  else:\n",
        "    return 1\n",
        "\n",
        "def OR(x1,x2):\n",
        "  x = np.array([x1,x2])\n",
        "  w = np.array([0.5,0.5])\n",
        "  b = -0.2  #0.5 하나만으로도 넘을 수 있어야 한다.\n",
        "  tmp = np.sum(w*x)  + b\n",
        "  if tmp <= 0:\n",
        "    return 0\n",
        "  else:\n",
        "    return 1\n",
        "\n",
        "#퍼셉트론으로 XOR 게이트를 표현할 수 없다. 비선형 영역이기 때문이다. 즉,  x,y, 좌표에서 선 하나만 그어서 구분하는 문제만 가능\n",
        "#다층 퍼셉트론으로 표현한다. ]\n",
        "#NAND로 둘 다인 경우 제외, OR로 둘 다 아닌 경우 제외 이 둘을 AND로 묶어 XOR을 만들어 낸다.\n",
        "def XOR(x1,x2):\n",
        "  s1 = NAND(x1,x2)\n",
        "  s2 = OR(x1,x2)\n",
        "  y = AND(s1,s2)\n",
        "  return y\n",
        "\n",
        "print(XOR(0,0))\n",
        "print(XOR(1,0))\n",
        "print(XOR(0,1))\n",
        "print(XOR(1,1))"
      ],
      "metadata": {
        "colab": {
          "base_uri": "https://localhost:8080/"
        },
        "id": "PhNUs9Xbj456",
        "outputId": "4f67c52f-5f83-4961-f65b-4cf0da80877d"
      },
      "execution_count": null,
      "outputs": [
        {
          "output_type": "stream",
          "name": "stdout",
          "text": [
            "0\n",
            "1\n",
            "1\n",
            "0\n"
          ]
        }
      ]
    },
    {
      "cell_type": "markdown",
      "source": [
        "# 3장 신경망\n",
        "퍼셉트론과 신경망의 차이점은, 퍼셉트론은 활성화를 0보다 크거나 작은 경우 2가지로 계단식함수를 이용.\n",
        "\n",
        "반면 신경망은 시그모이드 함수 e^x /(1 + e^x)  = 1/(1+e^-x) 를 이용 \n",
        "\n",
        "https://gooopy.tistory.com/52"
      ],
      "metadata": {
        "id": "iTRywD3zyLtU"
      }
    },
    {
      "cell_type": "code",
      "source": [
        "import numpy as np\n",
        "import matplotlib.pyplot as plt\n",
        "\n",
        "x = np.array([-1.0, 1.0, 2.0])\n",
        "y = x > 0\n",
        "print(y)\n",
        "# 이렇게 배열에 대하여 부등호 연산을 하면 boolean값이 되는 점을 이용해 계단식 함수에 인자로 배열을 전달할 수 있게 개조\n",
        "\n",
        "def step_function(x):\n",
        "  return np.array(x>0, dtype=np.int )\n",
        "\n",
        "x = np.arange(-5.0, 5.0, 0.1)\n",
        "print(step_function(x))\n",
        "y = step_function(x)\n",
        "plt.plot(x,y)\n",
        "plt.ylim(-0.1,1.1)\n",
        "plt.show()\n",
        "\n",
        "\n",
        "def sigmoid(x):\n",
        "  return 1/(1+np.exp(-x))\n",
        "\n",
        "y = sigmoid(x)\n",
        "plt.plot(x,y)\n",
        "plt.ylim(-0.1,1.1)\n",
        "plt.show()"
      ],
      "metadata": {
        "colab": {
          "base_uri": "https://localhost:8080/",
          "height": 661
        },
        "id": "lFtHXeyMyNUB",
        "outputId": "bfd5dfab-4af2-48a7-e9d8-6050b26fc6bf"
      },
      "execution_count": null,
      "outputs": [
        {
          "output_type": "stream",
          "name": "stdout",
          "text": [
            "[False  True  True]\n",
            "[0 0 0 0 0 0 0 0 0 0 0 0 0 0 0 0 0 0 0 0 0 0 0 0 0 0 0 0 0 0 0 0 0 0 0 0 0\n",
            " 0 0 0 0 0 0 0 0 0 0 0 0 0 0 1 1 1 1 1 1 1 1 1 1 1 1 1 1 1 1 1 1 1 1 1 1 1\n",
            " 1 1 1 1 1 1 1 1 1 1 1 1 1 1 1 1 1 1 1 1 1 1 1 1 1 1]\n"
          ]
        },
        {
          "output_type": "stream",
          "name": "stderr",
          "text": [
            "<ipython-input-22-5e9a4e0001ff>:10: DeprecationWarning: `np.int` is a deprecated alias for the builtin `int`. To silence this warning, use `int` by itself. Doing this will not modify any behavior and is safe. When replacing `np.int`, you may wish to use e.g. `np.int64` or `np.int32` to specify the precision. If you wish to review your current use, check the release note link for additional information.\n",
            "Deprecated in NumPy 1.20; for more details and guidance: https://numpy.org/devdocs/release/1.20.0-notes.html#deprecations\n",
            "  return np.array(x>0, dtype=np.int )\n"
          ]
        },
        {
          "output_type": "display_data",
          "data": {
            "text/plain": [
              "<Figure size 432x288 with 1 Axes>"
            ],
            "image/png": "[encoded data removed]"
          },
          "metadata": {
            "needs_background": "light"
          }
        },
        {
          "output_type": "display_data",
          "data": {
            "text/plain": [
              "<Figure size 432x288 with 1 Axes>"
            ],
            "image/png": "[encoded data removed]"
          },
          "metadata": {
            "needs_background": "light"
          }
        }
      ]
    },
    {
      "cell_type": "markdown",
      "source": [
        "이렇게 매끄러워진 함수가 신경망 학습에서 아주 중요한 역할을 하게 된다.\n",
        "\n",
        "1과 0만 반환하는 계단 함수대신 소수를 반환하여 연속적인 실수가 흐르게 된다.\n",
        "\n",
        "최근에는 0이 넘으면 출력하고 0 이하면 0을 출력하는 ReLu 함수를 이용한다."
      ],
      "metadata": {
        "id": "OpjpSx4c0rla"
      }
    },
    {
      "cell_type": "code",
      "source": [
        "import numpy as np\n",
        "import matplotlib.pyplot as plt\n",
        "def Relu(x):\n",
        "  return np.maximum(0,x)\n",
        "\n",
        "x = np.arange(-5.0, 5.0, 0.1)\n",
        "y = Relu(x)\n",
        "plt.plot(x,y)\n",
        "plt.ylim(-0.1,1.1)\n",
        "plt.show()"
      ],
      "metadata": {
        "colab": {
          "base_uri": "https://localhost:8080/",
          "height": 265
        },
        "id": "23AmjaAp1QQG",
        "outputId": "a034de17-8e18-467e-dac1-6054449a53c0"
      },
      "execution_count": null,
      "outputs": [
        {
          "output_type": "display_data",
          "data": {
            "text/plain": [
              "<Figure size 432x288 with 1 Axes>"
            ],
            "image/png": "[encoded data removed]"
          },
          "metadata": {
            "needs_background": "light"
          }
        }
      ]
    },
    {
      "cell_type": "markdown",
      "source": [
        "# 3장 행렬"
      ],
      "metadata": {
        "id": "CvDoSapc17BJ"
      }
    },
    {
      "cell_type": "code",
      "source": [
        "import numpy as np\n",
        "\n",
        "A=np.array([[1,2,3],[4,5,6]])\n",
        "B= np.array([ [1,2],[3,4],[5,6] ])\n",
        "print('A',A)\n",
        "print()\n",
        "print('B',B)\n",
        "#차원\n",
        "print('\\n차원',np.ndim(B))\n",
        "#모양\n",
        "print('\\n모양',B.shape)\n",
        "print()\n",
        "#행렬곱\n",
        "print(np.dot(A,B))"
      ],
      "metadata": {
        "colab": {
          "base_uri": "https://localhost:8080/"
        },
        "id": "ESaFs5Ed1-hm",
        "outputId": "dd50188f-1050-41d7-f718-a781b9c55795"
      },
      "execution_count": null,
      "outputs": [
        {
          "output_type": "stream",
          "name": "stdout",
          "text": [
            "A [[1 2 3]\n",
            " [4 5 6]]\n",
            "\n",
            "B [[1 2]\n",
            " [3 4]\n",
            " [5 6]]\n",
            "\n",
            "차원 2\n",
            "\n",
            "모양 (3, 2)\n",
            "\n",
            "[[22 28]\n",
            " [49 64]]\n"
          ]
        }
      ]
    },
    {
      "cell_type": "markdown",
      "source": [
        "# 3장 - 3층 시그모이드 신경망 구현\n",
        "\n",
        "<img src='https://ifh.cc/g/7MZLl1.jpg' border='0'></a>\n"
      ],
      "metadata": {
        "id": "Ows_9urfAnw4"
      }
    },
    {
      "cell_type": "code",
      "source": [
        "import numpy as np\n",
        "def sigmoid(x):\n",
        "  return 1/(1+np.exp(-x))\n",
        "\n",
        "def identity_function(x):\n",
        "  return x\n",
        "\n",
        "def init_network():\n",
        "  network={}\n",
        "  #0층에서 1층(노드 2개 -> 3개)\n",
        "  network['W1'] = np.array([[0.1,0.3,0.5],[0.2,0.4,0.6]])\n",
        "  network['b1'] = np.array([0.1,0.2,0.3])\n",
        "\n",
        "  #1층에서 2층(노드3개->2개)\n",
        "  network['W2'] = np.array([[0.1,0.4],[0.2,0.5],[0.3, 0.6]])\n",
        "  network['b2'] = np.array([0.1,0.2])\n",
        "\n",
        "  #2층에서 3층(노드2개->2개)\n",
        "  network['W3'] = np.array([[0.1,0.3],[0.2,0.4]])\n",
        "  network['b3'] = np.array([0.1,0.2])\n",
        "\n",
        "  return network\n",
        "\n",
        "def forward(network, x):\n",
        "  W1,W2,W3 = network['W1'], network['W2'], network['W3']\n",
        "  b1,b2,b3 = network['b1'], network['b2'], network['b3']\n",
        "\n",
        "  a1=np.dot(x,W1) +b1\n",
        "  z1 = sigmoid(a1)\n",
        "  a2=np.dot(z1,W2) +b2\n",
        "  z2 = sigmoid(a2)\n",
        "  a3 = np.dot(z2, W3) + b3\n",
        "  y = identity_function(a3)\n",
        "  \n",
        "  return y\n",
        "\n",
        "network=init_network()\n",
        "x = np.array([1.0, 0.5])\n",
        "y = forward(network, x)\n",
        "print(y)"
      ],
      "metadata": {
        "colab": {
          "base_uri": "https://localhost:8080/"
        },
        "id": "glhzs8JIArlL",
        "outputId": "b1b8aa65-5a94-4524-84b8-5700778c2b7a"
      },
      "execution_count": null,
      "outputs": [
        {
          "output_type": "stream",
          "name": "stdout",
          "text": [
            "[0.31682708 0.69627909]\n"
          ]
        }
      ]
    },
    {
      "cell_type": "markdown",
      "source": [
        "#Soft MAX\n",
        "세 개 이상의 class로 나뉠 경우, 각 class 에 속할 확률\n",
        "\n",
        "설명: https://wikidocs.net/35476 <- 여기 좋습니다. <br> \n",
        "      https://bookandmed.tistory.com/39 "
      ],
      "metadata": {
        "id": "LwD9IgYGNhgD"
      }
    },
    {
      "cell_type": "code",
      "source": [
        "import numpy as np\n",
        "#각 점수\n",
        "a = np.array([0.3, 2.9, 4.0])\n",
        "\n",
        "#e의 x제곱\n",
        "exp_a = np.exp(a)\n",
        "\n",
        "#분모\n",
        "sum_exp_a = np.sum(exp_a)\n",
        "\n",
        "#각 클래스로 분류될 확률\n",
        "y = exp_a / sum_exp_a\n",
        "\n",
        "print(y)\n",
        "\n",
        "#함수화\n",
        "\n",
        "def softmax(a):\n",
        "  exp_a=np.exp(a)\n",
        "  sum = np.sum(exp_a)\n",
        "  y = exp_a / sum\n",
        "  return y"
      ],
      "metadata": {
        "colab": {
          "base_uri": "https://localhost:8080/"
        },
        "id": "cQXQnixfOC64",
        "outputId": "c969beee-0ce0-4266-ebf1-6cfa4008436e"
      },
      "execution_count": null,
      "outputs": [
        {
          "output_type": "stream",
          "name": "stdout",
          "text": [
            "[0.01821127 0.24519181 0.73659691]\n"
          ]
        }
      ]
    },
    {
      "cell_type": "code",
      "source": [
        "# 이때, e의 제곱을 이용하면 오버플로우가 발생할 수 있다.\n",
        "# 이 문제를 해결하기 위해 계산해야할 점수의 최댓값을 모든 점수에 빼주어 상대적 크기 차이만 이용할 수 있다.\n",
        "# page 93을 보면, exp() 함수 안에 상수를 더하거나 빼주어도 값이 변하지 않음을 증명한다.\n",
        "\n",
        "import numpy as np\n",
        "\n",
        "def softmax(a):\n",
        "  c = np.max(a)\n",
        "  exp_a = np.exp(a-c) #overflow 방지\n",
        "  sum = np.sum(exp_a)\n",
        "  y = exp_a / sum\n",
        "  return y\n",
        "\n",
        "a = np.array([1010,1000,990])\n",
        "result =  softmax(a)\n",
        "print(result)\n",
        "print(np.sum(result))"
      ],
      "metadata": {
        "colab": {
          "base_uri": "https://localhost:8080/"
        },
        "id": "osxRif06UJ1G",
        "outputId": "fc912779-b653-4f6a-9f7d-0d93f6aadeed"
      },
      "execution_count": null,
      "outputs": [
        {
          "output_type": "stream",
          "name": "stdout",
          "text": [
            "[9.99954600e-01 4.53978686e-05 2.06106005e-09]\n",
            "1.0\n"
          ]
        }
      ]
    },
    {
      "cell_type": "markdown",
      "source": [
        "# 3장 손글씨 숫자 인식"
      ],
      "metadata": {
        "id": "70rzAmg-aRfK"
      }
    },
    {
      "cell_type": "markdown",
      "source": [
        "#아래 두개 셀을 실행해 데이터 가져와야 뒤에 것들도 가능"
      ],
      "metadata": {
        "id": "3zS8xtrhu7qa"
      }
    },
    {
      "cell_type": "code",
      "source": [
        "!git clone https://github.com/WegraLee/deep-learning-from-scratch.git"
      ],
      "metadata": {
        "colab": {
          "base_uri": "https://localhost:8080/"
        },
        "id": "VjWOYkTAA08s",
        "outputId": "c480a8e2-029e-4497-a3f0-e8e806f8cb9f"
      },
      "execution_count": null,
      "outputs": [
        {
          "output_type": "stream",
          "name": "stdout",
          "text": [
            "Cloning into 'deep-learning-from-scratch'...\n",
            "remote: Enumerating objects: 830, done.\u001b[K\n",
            "remote: Total 830 (delta 0), reused 0 (delta 0), pack-reused 830\u001b[K\n",
            "Receiving objects: 100% (830/830), 52.21 MiB | 11.49 MiB/s, done.\n",
            "Resolving deltas: 100% (477/477), done.\n"
          ]
        }
      ]
    },
    {
      "cell_type": "code",
      "source": [
        "# 데이터 가져오기\n",
        "import sys, os \n",
        "from deep.dataset import mnist\n",
        "''' \n",
        "완전 처음 할 때 \n",
        "1. git허브에서 가져오기\n",
        "2. sys.path에 내가 쓸 파일 추가하기\n",
        "3. 폴더 이름을 deep으로 바꾸기( - 나 from 때문에 문법오류난다)\n",
        "4. from 바꾼 폴더이름 import 내가 쓸 함수 파일이름\n",
        "'''\n",
        "# 훈련 이미지 6만장, test이미지 만장 \n",
        "\n",
        "# sys.path.append('/content/deep-learning-from-scratch/dataset/mnist.py')\n",
        "# print(sys.path)\n",
        "\n",
        "\n",
        "# https://raw.githubusercontent.com/WegraLee/deep-learning-from-scratch/master/dataset/mnist.py\n",
        "# https://github.com/WegraLee/deep-learning-from-scratch.git \n",
        "\n",
        "#x_train은 이미지, t_train은 라벨\n",
        "(x_train, t_train), (x_test, t_test) = mnist.load_mnist(flatten=True, normalize=False)\n",
        "print(x_train.shape) #60000, 784 나오면 성공"
      ],
      "metadata": {
        "colab": {
          "base_uri": "https://localhost:8080/"
        },
        "id": "1YpWRb5haU-D",
        "outputId": "fa4399cd-1044-4e91-9278-ee9547abe8d2"
      },
      "execution_count": null,
      "outputs": [
        {
          "output_type": "stream",
          "name": "stdout",
          "text": [
            "Converting train-images-idx3-ubyte.gz to NumPy Array ...\n",
            "Done\n",
            "Converting train-labels-idx1-ubyte.gz to NumPy Array ...\n",
            "Done\n",
            "Converting t10k-images-idx3-ubyte.gz to NumPy Array ...\n",
            "Done\n",
            "Converting t10k-labels-idx1-ubyte.gz to NumPy Array ...\n",
            "Done\n",
            "Creating pickle file ...\n",
            "Done!\n",
            "(60000, 784)\n"
          ]
        }
      ]
    },
    {
      "cell_type": "code",
      "source": [
        "#이미지 열어보기\n",
        "import sys, os\n",
        "import numpy as np\n",
        "from PIL import Image\n",
        "from deep.dataset import mnist\n",
        "from matplotlib.pyplot import imshow \n",
        "\n",
        "def img_show(img):\n",
        "  pil_img = Image.fromarray(np.uint8(img))\n",
        "  imshow(pil_img)\n",
        "\n",
        "(x_train, t_train), (x_test, t_test) = mnist.load_mnist(flatten=True, normalize=False)\n",
        "\n",
        "img = x_train[0]\n",
        "label = t_train[0]\n",
        "print(label) #5\n",
        "\n",
        "print(img.shape) # (784, )\n",
        "img = img.reshape(28, 28) \n",
        "# 원래 이미지의 모양으로 변형 flastten=True 1차원 배열로 저장되어있기 때문에, 28*28로 다시 바꾸는 것\n",
        "print(img.shape)  #(28,28)\n",
        "\n",
        "img_show(img)"
      ],
      "metadata": {
        "colab": {
          "base_uri": "https://localhost:8080/",
          "height": 320
        },
        "id": "op3OviKCBBHy",
        "outputId": "01d845ee-10fa-4b5a-dc42-ec5a3d4fcf14"
      },
      "execution_count": null,
      "outputs": [
        {
          "output_type": "stream",
          "name": "stdout",
          "text": [
            "5\n",
            "(784,)\n",
            "(28, 28)\n"
          ]
        },
        {
          "output_type": "display_data",
          "data": {
            "text/plain": [
              "<Figure size 432x288 with 1 Axes>"
            ],
            "image/png": "[encoded data removed]"
          },
          "metadata": {
            "needs_background": "light"
          }
        }
      ]
    },
    {
      "cell_type": "code",
      "source": [
        "# 신경망 구현하기\n",
        "# 28*28 크기의 이미지가 input, 0~9의 숫자가 output\n",
        "import os, sys\n",
        "import pickle\n",
        "# sys.path.append('/content/deep-learning-from-scratch/ch03/sample_weight.pkl')\n",
        "# from deep.ch03 import sample_weight 왜인지 .py와 다르게 .pkl은 이렇게 import할 수 없었다 \n",
        "# 대신 실제 경로를 이용해 사용할 수 있었다. /content/deep/ch03/sample_weight.pkl\n",
        "\n",
        "from deep.dataset import mnist\n",
        "import numpy as np\n",
        "\n",
        "def sigmoid(x):\n",
        "  return 1 / (1 + np.exp(-x))\n",
        "  \n",
        "def softmax(a):\n",
        "  c = np.max(a)\n",
        "  exp_a = np.exp(a-c) #overflow 방지를 위해 최대값을 다 빼준다. 결과는 변하지 않는다.\n",
        "  sum = np.sum(exp_a)\n",
        "  y = exp_a / sum\n",
        "  return y\n",
        "\n",
        "def get_data():\n",
        "  #normalize정규화(0~255의 픽셀 값을 0~1 범위로 정규화) 이걸 안하니까 sigmoid에서 runtime error발생\n",
        "  (x_train, t_train), (x_test, t_test) = mnist.load_mnist(flatten=True, normalize=True, one_hot_label=False) #정답만 1, 나머진 0으로 표시하는 원 핫\n",
        "  return x_test, t_test\n",
        "\n",
        "def init_network(): # 가중치와 매개변수가 주어졌다! 딕셔너리로 저장되어있는 이진파일. 최적의 가중치를 찾아내는게 딥러닝\n",
        "  with open(\"/content/deep/ch03/sample_weight.pkl\", 'rb') as f:\n",
        "    network = pickle.load(f)\n",
        "    return network\n",
        "\n",
        "#          X            W1          W2            W3          ->        Y\n",
        "#   test개수 x 784   784 x 50    50 x 100    100 x 분류개수     test개수 x 분류개수\n",
        "def predict(network,x):\n",
        "  W1, W2, W3 = network['W1'], network['W2'], network['W3']\n",
        "  b1, b2, b3 = network['b1'], network['b2'], network['b3']\n",
        "  a1 = np.dot(x, W1) + b1\n",
        "  z1 = sigmoid(a1)\n",
        "  a2 = np.dot(z1,W2) + b2\n",
        "  z2 = sigmoid(a2)\n",
        "  a3 = np.dot(z2,W3) + b3\n",
        "  y = softmax(a3)\n",
        "  return y\n",
        "\n",
        "x, t = get_data()\n",
        "network = init_network()\n",
        "\n",
        "accuracy_cnt = 0\n",
        "for i in  range(len(x)): #test는 10000개\n",
        "  y = predict(network, x[i])\n",
        "  p = np.argmax(y)  #확률이 가장 높은 인덱스 저장\n",
        "  if (p == t[i]):\n",
        "    accuracy_cnt += 1\n",
        "\n",
        "print('sigmoid 함수, softmax방식 이용한 정확도:', float(accuracy_cnt) / len(x) ) #0.9352가 나와야 정상"
      ],
      "metadata": {
        "colab": {
          "base_uri": "https://localhost:8080/"
        },
        "id": "ziAjVjlxD3wh",
        "outputId": "3fc5d9fd-1eea-4f94-a82a-c4675c2b7487"
      },
      "execution_count": null,
      "outputs": [
        {
          "output_type": "stream",
          "name": "stdout",
          "text": [
            "sigmoid 함수, softmax방식 이용한 정확도: 0.9352\n"
          ]
        }
      ]
    },
    {
      "cell_type": "code",
      "source": [
        "#batch 묶음 - x[i] y[i] 에 각각 i번째 이미지와 그 결과가 저장되어 있다.\n",
        "#묶음을 이용해 계산한다. 컴퓨터는 큰 배열을 한번에 계산하는 것이 분할된 배열을 여러번 하는 것보다 빠르다.\n",
        "batch_size = 100\n",
        "accuracy_cnt = 0\n",
        "for i in range(0,len(x), batch_size): \n",
        "  x_batch = x[i:i+batch_size] # 100개의 행, 100개의 test \n",
        "  y_batch = predict(network,x_batch) \n",
        "  p = np.argmax(y_batch, axis=1 ) #100개 단위니까 열따라 이동(행으로) 100번, 최대치 index\n",
        "  accuracy_cnt +=np.sum( p == t[i:i+batch_size] )  #정답이 맞는 개수만큼 sum\n",
        "print( float(accuracy_cnt) / len(x) )"
      ],
      "metadata": {
        "colab": {
          "base_uri": "https://localhost:8080/"
        },
        "id": "qV8vYQgG8zJb",
        "outputId": "7dad9a60-74e4-478e-e743-c7dac4575c40"
      },
      "execution_count": null,
      "outputs": [
        {
          "output_type": "stream",
          "name": "stdout",
          "text": [
            "0.9352\n"
          ]
        }
      ]
    },
    {
      "cell_type": "markdown",
      "source": [
        "# 4장 신경망 학습 - 수치 미분\n",
        "\n",
        "직선으로 분리할 수 있는 선형 분리 가능 문제는 퍼셉트론 수렴정리에 의해 유한 번의 학습을 통해 풀 수 있다.\n",
        "하지만 비선형 분리 문제는 자동으로 학습할 수 없다.<br>\n",
        "\n",
        "사람이 생각한 특징 -> 기계학습 -> 결과<br>\n",
        "딥러닝 -> 결과 (사람의 개입 최소화)<br><br>\n",
        "\n",
        "'특징'은 보통 SITF, SURF, HOG 등의 특징을 이용해 벡터로 기술하고, 이후 지도 학습 분류 기법 SVM KNN 등으로 학습할 수 있다.\n",
        "\n",
        "정확도가 아닌 손실을 지표로 하는 이유: <br>\n",
        "정확도를 지표로 삼으면 대부분의 매개변수 미분 값이 0으로, 갱신을 하기가 어려워진다. (정확도 32%라면 가중치가 조금 바뀌어도 그대로 32%일 수 있다. 반면 손실함수는 조금의 변화에도 바뀌는 연속적인 변화!)\n",
        "\n",
        "이는 계단식 함수 대신 시그모이드 같은 함수를 이용하는 이유이기도 하다. "
      ],
      "metadata": {
        "id": "1PNG4mMp-01L"
      }
    },
    {
      "cell_type": "code",
      "source": [
        "# 손실 측정 - 오차 제곱의 합\n",
        "import numpy as np\n",
        "#SSE 오차 제곱의 합\n",
        "def sum_squares_error(y, t):\n",
        "  return 0.5 * np.sum((y-t)**2)\n",
        "\n",
        "#정답은 2\n",
        "t= [0,0,1,0,0,0,0,0,0,0]\n",
        "\n",
        "# 2일 확률이 가장 높다고 예측\n",
        "y = [0.1, 0.05, 0.6, 0.0, 0.05, 0.1, 0.0, 0.1, 0.0, 0.0]\n",
        "print('정답 2를 맞춘 경우 손실',sum_squares_error(np.array(y),np.array(t)) )\n",
        "\n",
        "# 7일 확률이 가장 높다고 예측\n",
        "y = [0.1, 0.05, 0.1, 0.0, 0.05, 0.1, 0.0, 0.6, 0.0, 0.0]\n",
        "print('틀린 경우 손실', sum_squares_error(np.array(y),np.array(t)) )\n"
      ],
      "metadata": {
        "colab": {
          "base_uri": "https://localhost:8080/"
        },
        "id": "fmtdIqUZ-3WK",
        "outputId": "cd6d42f7-dae9-47be-a19d-a3e6503b7f5a"
      },
      "execution_count": null,
      "outputs": [
        {
          "output_type": "stream",
          "name": "stdout",
          "text": [
            "정답 2를 맞춘 경우 손실 0.09750000000000003\n",
            "틀린 경우 손실 0.5975\n"
          ]
        }
      ]
    },
    {
      "cell_type": "code",
      "source": [
        "# 손실 측정 - 교차 엔트로피 오차\n",
        "# 로그 씌워서 파악, 정답 인덱스의 점수가 1에 가까울 수록 0에 가까운 손실 발생\n",
        "import numpy as np\n",
        "\n",
        "# (1/N) * -시그마log(y) \n",
        "# 원핫 코딩으로 인해, 정답 인덱스가 아닌 부분은 다 0이 된다. 따라서 데이터가 하나면 추론 결과값의 -log 값이 된다.\n",
        "# 예를들어 2 가 정답이고 그 확률이 0.6인 경우 -log 0.6 이다. 값이 음수니까 앞에 - 부호를 붙여준 것.\n",
        "\n",
        "def cross_entropy_error(y,t):\n",
        "  delta = 1e-7\n",
        "  return -np.sum(t * np.log(y + delta))\n",
        "  # 아주 작은 델타를 더해줘 np.log에 0이 입력되어 -inf가 되지 않도록 함.\n",
        "\n",
        "#정답은 2\n",
        "t= [0,0,1,0,0,0,0,0,0,0]\n",
        "\n",
        "# 2일 확률이 가장 높다고 예측\n",
        "y = [0.1, 0.05, 0.6, 0.0, 0.05, 0.1, 0.0, 0.1, 0.0, 0.0]\n",
        "# - (log 6 - log 10)\n",
        "print('정답 2를 맞춘 경우 손실',cross_entropy_error(np.array(y),np.array(t)) )\n",
        "\n",
        "\n",
        "# 7일 확률이 가장 높다고 예측\n",
        "y = [0.1, 0.05, 0.1, 0.0, 0.05, 0.1, 0.0, 0.6, 0.0, 0.0]\n",
        "print('틀린 경우 손실', cross_entropy_error(np.array(y),np.array(t)) )\n",
        "# - (log5 - log100) "
      ],
      "metadata": {
        "colab": {
          "base_uri": "https://localhost:8080/"
        },
        "id": "uQZ_-RI1PNoF",
        "outputId": "8cc57c84-f0a0-472f-8ba8-c41603b1cc29"
      },
      "execution_count": null,
      "outputs": [
        {
          "output_type": "stream",
          "name": "stdout",
          "text": [
            "정답 2를 맞춘 경우 손실 0.510825457099338\n",
            "틀린 경우 손실 2.302584092994546\n"
          ]
        }
      ]
    },
    {
      "cell_type": "code",
      "source": [
        "#학습 데이터 중 무작위 일부만을 이용할 수도 있다. mini-batch 학습이라고 한다.\n",
        "import numpy as np\n",
        "from deep.dataset import mnist\n",
        "(x_train, t_train), (x_test, t_test) = mnist.load_mnist(normalize=True, one_hot_label=True)\n",
        "\n",
        "train_size = x_train.shape[0] #6만\n",
        "batch_size = 10\n",
        "# 0 이상 6만 미만의 수 중 무작위 10개 선택 ->배열로 나옴\n",
        "batch_mask = np.random.choice(train_size, batch_size)\n",
        "\n",
        "# 무작위로 뽑힌 배열을 이용해 원하는 만큼의 데이터와 정답을 가져온다.\n",
        "x_batch = x_train[batch_mask]\n",
        "t_batch = t_train[batch_mask]\n",
        "\n",
        "#이렇게 뽑은 mini-batch로 손실함수를 계산하면 적은 수를 이용할 수 있다.\n",
        "#위에서 구현한 데이터가 하나인 경우와 batch로 묶여 들어오는 경우 모두에 쓸 수 있도록\n",
        "def cross_entropy_error_mini_batch(y,t):\n",
        "  if (y.ndim ==1):\n",
        "    t = t.reshape(1,t.size)\n",
        "    y = y.reshape(1,y.size)\n",
        "  batch_size = y.shape[0]\n",
        "  # 아주 작은 델타를 더해줘 np.log에 0이 입력되어 -inf가 되지 않도록 함.\n",
        "  return -np.sum(t * np.log(y+1e-7)) / batch_size\n",
        "\n",
        "#만약 one hot incoding이 아니라 '2', '7' 등 정답 인덱스인 경우\n",
        "def cross_entropy_error_no_one_hot(y,t):\n",
        "  if (y.ndim ==1):\n",
        "    t = t.reshape(1,t.size)\n",
        "    y = y.reshape(1,y.size)\n",
        "  batch_size = y.shape[0]\n",
        "  #np.arange( 숫자 ) 는 0부터 숫자 -1 까지의 배열을 반환한다.\n",
        "  #y[np.arange(batch_size),t] 는 모든 행에 대한 정답 열을 의미한다.\n",
        "  return -np.sum(t * np.log(y[np.arange(batch_size),t]+1e-7  )) / batch_size   "
      ],
      "metadata": {
        "id": "6vDuCbK3WQzv",
        "colab": {
          "base_uri": "https://localhost:8080/"
        },
        "outputId": "ca9a0568-9225-4a4f-86f9-ccca85fc5b4c"
      },
      "execution_count": null,
      "outputs": [
        {
          "output_type": "stream",
          "name": "stdout",
          "text": [
            "Converting train-images-idx3-ubyte.gz to NumPy Array ...\n",
            "Done\n",
            "Converting train-labels-idx1-ubyte.gz to NumPy Array ...\n",
            "Done\n",
            "Converting t10k-images-idx3-ubyte.gz to NumPy Array ...\n",
            "Done\n",
            "Converting t10k-labels-idx1-ubyte.gz to NumPy Array ...\n",
            "Done\n",
            "Creating pickle file ...\n",
            "Done!\n"
          ]
        }
      ]
    },
    {
      "cell_type": "code",
      "source": [
        "# 학습을 위한 미분\n",
        "\n",
        "import numpy as np\n",
        "import matplotlib.pyplot as plt\n",
        "\n",
        "def function_1(x):\n",
        "  return 0.01*x**2 + 0.1*x\n",
        "  \n",
        "def numerical_diff(f,x):\n",
        "  h = 1e-4 #10의 -4제곱! 너무 작게 하면 0으로 인식하는 문제 발생 이정도가 좋다고 알려져있다\n",
        "  return ( f(x+h) - f(x-h) ) / (2*h)    #h를 0으로 무한히 좁히는 것이 불가능하므로, x에서 앞뒤로 h만큼 이동한 실제 미분과 다른 근사치\n",
        "  \n",
        "x = np.arange(0.0, 20.0, 0.1)\n",
        "y = function_1(x)\n",
        "\n",
        "plt.xlabel('x')\n",
        "plt.ylabel('y')\n",
        "plt.plot(x,y)\n",
        "plt.show()\n",
        "\n",
        "print('5에서 미분: ', numerical_diff(function_1, 5))\n",
        "print('10에서 미분: ', numerical_diff(function_1, 10) )"
      ],
      "metadata": {
        "colab": {
          "base_uri": "https://localhost:8080/",
          "height": 315
        },
        "id": "odeRfTAcw1e6",
        "outputId": "b5bcd344-2a37-48f1-80df-9a35e2e00935"
      },
      "execution_count": null,
      "outputs": [
        {
          "output_type": "display_data",
          "data": {
            "text/plain": [
              "<Figure size 432x288 with 1 Axes>"
            ],
            "image/png": "[encoded data removed]"
          },
          "metadata": {
            "needs_background": "light"
          }
        },
        {
          "output_type": "stream",
          "name": "stdout",
          "text": [
            "5에서 미분:  0.1999999999990898\n",
            "10에서 미분:  0.2999999999986347\n"
          ]
        }
      ]
    },
    {
      "cell_type": "code",
      "source": [
        "# gradient - 편미분 값을 벡터로 정리한 것\n",
        "# 변수 x 역시 배열 형태로 x = [x1,x2]\n",
        "def function_2(x):\n",
        "  return x[0]**2 + x[1]**2 \n",
        "\n",
        "# 함수와 변수 값들을 받아 미분값 반환\n",
        "def numerical_gradient(f, x):\n",
        "  h = 1e-4\n",
        "  grad = np.zeros_like(x) #x와 형상이 같은 배열 생성\n",
        "  \n",
        "  # 변수 개수 만큼 반복문이 돌아야 하는데, 한번만 도는 문제 발생.. -> return 들여쓰기 문제였음\n",
        "  for idx in range(x.size):\n",
        "    tmp_val = x[idx]\n",
        "    #각 변수에 대하여 x+h, x-h 계산\n",
        "    x[idx] = tmp_val + h \n",
        "    fxh1 = f(x)\n",
        "    x[idx] = tmp_val - h\n",
        "    fxh2 = f(x)\n",
        "\n",
        "    grad[idx] = (fxh1 - fxh2) / (2*h)\n",
        "\n",
        "    #원래 값으로 복원\n",
        "    x[idx] = tmp_val \n",
        "\n",
        "  return grad\n",
        "\n",
        "\n",
        "print('3차원(2변수 함수) 미분',numerical_gradient( function_2, np.array([3.0, 4.0]) )  )\n",
        "print('3차원(2변수 함수) 미분',numerical_gradient( function_2, np.array([0.0, 2.0]) )  )\n",
        "print('3차원(2변수 함수) 미분',numerical_gradient( function_2, np.array([3.0, 0.0]) )  )"
      ],
      "metadata": {
        "colab": {
          "base_uri": "https://localhost:8080/"
        },
        "id": "8KD2JdCK21vU",
        "outputId": "c479ca67-482b-4ba5-ab9f-afde9f0103be"
      },
      "execution_count": null,
      "outputs": [
        {
          "output_type": "stream",
          "name": "stdout",
          "text": [
            "3차원(2변수 함수) 미분 [6. 8.]\n",
            "3차원(2변수 함수) 미분 [0. 4.]\n",
            "3차원(2변수 함수) 미분 [6. 0.]\n"
          ]
        }
      ]
    },
    {
      "cell_type": "markdown",
      "source": [
        "이렇게 미분값들을 구해 복잡한 함수에서 최소(혹은 최대)값을 향해 조금씩 이동하며 기울기가 0이 되는 최저점을 찾으려는 방법을 경사 하강법 이라고 한다.<br>\n",
        "그러나 실제 복잡한 현실문제에서는 안정점이 최솟값이 아닐수도 있고, 평평한 곳으로 가면서 고원(플래토)라고 하는 학습이 진행되지 않는 정체기에 빠질 수 있다."
      ],
      "metadata": {
        "id": "1DaDwmgx8A2I"
      }
    },
    {
      "cell_type": "code",
      "source": [
        "# 경사법으로 x1^2 + x2^2 의 최솟값 구하기\n",
        "def function_2(x):\n",
        "  return x[0]**2 + x[1]**2 \n",
        "\n",
        "def gradient_descent(f, init_x, lr, step_num):\n",
        "  x = init_x\n",
        "  for i in range(step_num):\n",
        "    grad = numerical_gradient(f,x)\n",
        "    #원하는 기울기일때만 움직여야 하지 않나? \n",
        "    x = x - lr*grad\n",
        "  return x\n",
        "\n",
        "init_x = np.array([-3.0, 4.0])\n",
        "\n",
        "# 실제 최솟값 0과 아주 비슷 ! 학습률이 너무 크거나 작으면 동떨어진 값이 나온다. (너무 크게 크게 이동하며 찾기 때문)\n",
        "gradient_descent(function_2, init_x = init_x, lr= 0.1, step_num=100)"
      ],
      "metadata": {
        "colab": {
          "base_uri": "https://localhost:8080/"
        },
        "id": "pvVP_i-48eVl",
        "outputId": "b628c8a6-6e8c-491f-de90-34ab6f84a6c3"
      },
      "execution_count": null,
      "outputs": [
        {
          "output_type": "execute_result",
          "data": {
            "text/plain": [
              "array([-6.11110793e-10,  8.14814391e-10])"
            ]
          },
          "metadata": {},
          "execution_count": 18
        }
      ]
    },
    {
      "cell_type": "markdown",
      "source": [
        "학습률 처럼 사람이 직접 여러 후보 중 결정해야 하는 가중치를 hyper parameter라고 한다."
      ],
      "metadata": {
        "id": "2eg0GTUcDntn"
      }
    },
    {
      "cell_type": "code",
      "source": [
        "# 신경망에서의 기울기\n",
        "import numpy as np\n",
        "# !git clone 하고, deep으로 바꾸는 것 잊지 말고!\n",
        "from deep.common.functions import softmax, cross_entropy_error\n",
        "from deep.common.gradient import numerical_gradient\n",
        "\n",
        "class simpleNet:\n",
        "  def __init__(self):\n",
        "    self.W = np.random.randn(2,3) #정규 분포로 초기화\n",
        "  def predict(self, x):\n",
        "    return np.dot(x, self.W) \n",
        "  def loss(self, x, t):\n",
        "    z = self.predict(x)\n",
        "    y = softmax(z)\n",
        "    loss = cross_entropy_error(y, t)\n",
        "    return loss\n",
        "\n",
        "\n",
        "# 하나의 신경망 만들기\n",
        "net = simpleNet()\n",
        "print('created Neural Network\\n',net.W)\n",
        "\n",
        "# 초기값 설정 및 예측\n",
        "x = np.array([0.6, 0.9])\n",
        "p = net.predict(x)\n",
        "print('predict \\n',p)\n",
        "\n",
        "t = np.array([0, 0, 1]) # 정답 레이블 설정\n",
        "\n",
        "print('compare with the answer loss is: ',net.loss(x, t))\n",
        "\n",
        "\n",
        "# 함수를 손실함수로 정의\n",
        "def f(W):\n",
        "  return net.loss(x,t)\n",
        "# f = lambda w: net.loss(x,t) 로도 가능\n",
        "\n",
        "# 함수와 값을 받아 미분\n",
        "dW = numerical_gradient(f, net.W)\n",
        "print(dW)"
      ],
      "metadata": {
        "colab": {
          "base_uri": "https://localhost:8080/"
        },
        "id": "j1p_B1RB0FUI",
        "outputId": "3098febc-3056-4d96-f52b-4ca3ff1e2977"
      },
      "execution_count": null,
      "outputs": [
        {
          "output_type": "stream",
          "name": "stdout",
          "text": [
            "created Neural Network\n",
            " [[ 0.66000002  0.54932187 -2.37743454]\n",
            " [ 0.57481429  0.3864953   1.51500164]]\n",
            "predict \n",
            " [ 0.91333288  0.67743889 -0.06295925]\n",
            "compare with the answer loss is:  1.749436680490603\n",
            "[[ 0.27693531  0.21874135 -0.49567666]\n",
            " [ 0.41540297  0.32811202 -0.74351499]]\n"
          ]
        }
      ]
    },
    {
      "cell_type": "markdown",
      "source": [
        "딥러닝 프레임워크 중 SGD (stochastic gradient descent) 방법이 있다.\n",
        "이는 \n",
        "\n",
        "1. 미니배치 무작위 선택\n",
        "2. 기울기 산출\n",
        "3. 매개 변수 갱신 \n",
        "\n",
        "의 3단계를 반복하는 함수이다.\n",
        "즉, 복잡한 매개변수 공간에서(아주 큰 n차원) 기울어진 방향으로 매개변수 값을 갱신하는 일을 몇 번이고 반복하는 단순한 방법."
      ],
      "metadata": {
        "id": "tHWdGU1m6olO"
      }
    },
    {
      "cell_type": "code",
      "source": [
        "#2층 신경망 클래스 구현\n",
        "import numpy as np\n",
        "# !git clone 하고, deep으로 바꾸는 것 잊지 말고!\n",
        "from deep.common.functions import softmax, cross_entropy_error\n",
        "from deep.common.gradient import numerical_gradient\n",
        "from deep.dataset.mnist import load_mnist\n",
        "\n",
        "\n",
        "\n",
        "\n",
        "def sigmoid(x):\n",
        "  return 1/(1+np.exp(-x))\n",
        "\n",
        "\n",
        "# 0층 input -> 1층 hidden -> 2층 output\n",
        "class TwoLayerNet:\n",
        "  def __init__(self, input_size, hidden_size, output_size, weight_init_std=0.01):\n",
        "  # 가중치 초기화 , 정규분포를 따르는 난수로 가중치 초기화, 0으로 편향 초기화\n",
        "    self.params = {} #create a dictionary\n",
        "    self.params['W1'] = weight_init_std * np.random.randn(input_size, hidden_size)\n",
        "    self.params['b1'] = np.zeros(hidden_size)\n",
        "    self.params['W2'] = weight_init_std * np.random.randn(hidden_size, output_size)\n",
        "    self.params['b2'] = np.zeros(output_size)\n",
        "\n",
        "  def predict(self, x):\n",
        "    W1, W2 = self.params['W1'], self.params['W2']\n",
        "    b1, b2 = self.params['b1'], self.params['b2']\n",
        "    a1 = np.dot(x, W1) + b1\n",
        "    z1 = sigmoid(a1)\n",
        "    a2 = np.dot(z1, W2) + b2\n",
        "    y = softmax(a2)\n",
        "    return y\n",
        "        \n",
        "\n",
        "    # x:입력 데이터, t:정답 레이블\n",
        "  def loss(self, x, t):\n",
        "    y = self.predict(x)\n",
        "    return cross_entropy_error(y, t)\n",
        "    \n",
        "  def accuracy(self, x, t):\n",
        "    y = self.predict(x)\n",
        "    y = np.argmax(y, axis=1)\n",
        "    t = np.argmax(t, axis=1)\n",
        "        \n",
        "    accuracy = np.sum(y == t) / float(x.shape[0])\n",
        "    return accuracy\n",
        "        \n",
        "    # x : 입력 데이터, t : 정답 레이블\n",
        "  def numerical_gradient(self, x, t):\n",
        "    loss_W = lambda W: self.loss(x, t)\n",
        "        \n",
        "    grads = {}\n",
        "    grads['W1'] = numerical_gradient(loss_W, self.params['W1'])\n",
        "    grads['b1'] = numerical_gradient(loss_W, self.params['b1'])\n",
        "    grads['W2'] = numerical_gradient(loss_W, self.params['W2'])\n",
        "    grads['b2'] = numerical_gradient(loss_W, self.params['b2'])\n",
        "        \n",
        "    return grads\n",
        " \n",
        "    '''       \n",
        "    def gradient(self, x, t):\n",
        "        W1, W2 = self.params['W1'], self.params['W2']\n",
        "        b1, b2 = self.params['b1'], self.params['b2']\n",
        "        grads = {}\n",
        "        \n",
        "        batch_num = x.shape[0]\n",
        "        \n",
        "        # forward\n",
        "        a1 = np.dot(x, W1) + b1\n",
        "        z1 = sigmoid(a1)\n",
        "        a2 = np.dot(z1, W2) + b2\n",
        "        y = softmax(a2)\n",
        "        \n",
        "        # backward\n",
        "        dy = (y - t) / batch_num\n",
        "        grads['W2'] = np.dot(z1.T, dy)\n",
        "        grads['b2'] = np.sum(dy, axis=0)\n",
        "        \n",
        "        da1 = np.dot(dy, W2.T)\n",
        "        dz1 = sigmoid_grad(a1) * da1\n",
        "        grads['W1'] = np.dot(x.T, dz1)\n",
        "        grads['b1'] = np.sum(dz1, axis=0)\n",
        "\n",
        "        return grads\n",
        "   '''\n",
        "\n",
        "\n",
        "# 미니배치 학습 구현\n",
        "(x_train, t_trian), (x_test, t_test) = load_mnist(normalize=True, one_hot_label=True )\n",
        "\n",
        "train_loss_list = []\n",
        "\n",
        "# hyper parameter\n",
        "iters_num = 10\n",
        "train_size = x_train.shape[0]\n",
        "batch_size = 100\n",
        "learning_rate = 0.1\n",
        "\n",
        "#input 이미지(28*28) ouput 0~9 숫자 \n",
        "network = TwoLayerNet(input_size=784, hidden_size=50, output_size=10)\n",
        "\n",
        "for i in range(iters_num):\n",
        "  print(i)\n",
        "  # mini batch   0~60000 중 100개\n",
        "  batch_mask = np.random.choice(train_size, batch_size)\n",
        "  x_batch = x_train[batch_mask]\n",
        "  t_batch = t_train[batch_mask]\n",
        "  # 기울기 계산\n",
        "  grad = network.numerical_gradient(x_batch, t_batch)\n",
        "\n",
        "\n",
        "  # 매개변수 갱신\n",
        "  for key in ('W1', 'b1', 'W2', 'b2'):\n",
        "    network.params[key] -= learning_rate * grad[key]\n",
        "\n",
        "  #학습 기록\n",
        "  loss = network.loss(x_batch, t_batch)\n",
        "  train_loss_list.append(loss)"
      ],
      "metadata": {
        "colab": {
          "base_uri": "https://localhost:8080/"
        },
        "id": "CBew-7S9679I",
        "outputId": "b0def494-41b1-4714-af5b-2d588f055c31"
      },
      "execution_count": null,
      "outputs": [
        {
          "output_type": "stream",
          "name": "stdout",
          "text": [
            "0\n",
            "1\n",
            "2\n",
            "3\n",
            "4\n",
            "5\n",
            "6\n",
            "7\n",
            "8\n",
            "9\n"
          ]
        }
      ]
    },
    {
      "cell_type": "code",
      "source": [
        "#학습이 진행됨에 따라 손실이 줄었을까? \n",
        "#100 번하고 싶지만, 너무 오래걸린다.\n",
        "print(train_loss_list)"
      ],
      "metadata": {
        "colab": {
          "base_uri": "https://localhost:8080/"
        },
        "id": "ilJ5xkWfvli7",
        "outputId": "6247abd1-6aca-4d84-f17d-6180beb10336"
      },
      "execution_count": null,
      "outputs": [
        {
          "output_type": "stream",
          "name": "stdout",
          "text": [
            "[2.2925339361755603, 2.297691859885353, 2.292977378646004, 2.2921516495310588, 2.2714990688594807, 2.292138527937061, 2.3081221835024244, 2.298603896867228, 2.2930658991085537, 2.2746945609797176]\n"
          ]
        }
      ]
    },
    {
      "cell_type": "code",
      "source": [
        "import matplotlib.pyplot as plt\n",
        "# 손실이 줄었는지 확인  - 안 줄었다?? \n",
        "# 1바퀴에 1분 걸려서 더 못하겠다. \n",
        "# 알고 보니 뒤에 나오는 오차역전파법이 훨씬 빠르다. 책에서도 그 방법을 이용해 그림을 그렸을듯.\n",
        "plt.plot( range(1,iters_num+1)  , train_loss_list)"
      ],
      "metadata": {
        "colab": {
          "base_uri": "https://localhost:8080/",
          "height": 283
        },
        "id": "iFZrjyp3FQTk",
        "outputId": "5f3e7e5f-1998-43d2-bede-d53cac39f919"
      },
      "execution_count": null,
      "outputs": [
        {
          "output_type": "execute_result",
          "data": {
            "text/plain": [
              "[<matplotlib.lines.Line2D at 0x7f1e3af2b220>]"
            ]
          },
          "metadata": {},
          "execution_count": 25
        },
        {
          "output_type": "display_data",
          "data": {
            "text/plain": [
              "<Figure size 432x288 with 1 Axes>"
            ],
            "image/png": "[encoded data removed]"
          },
          "metadata": {
            "needs_background": "light"
          }
        }
      ]
    },
    {
      "cell_type": "code",
      "source": [
        "# epoch - 훈련 데이터만큼 학습 했을 때의 단위이다.\n",
        "# 즉, 6만 개 사진을 100 미니배치씩 했다면, 600회가 1에폭이다.\n",
        "# 과적합을 막기 위해, 1 epoch이 될때마다 test데이터와 train데이터 정확도를 비교하여 과적합 발생 시점을 찾을 수 있다.\n",
        "\n",
        "#위의 코드와 달라진 점만 보면 된다.\n",
        "\n",
        "import numpy as np\n",
        "# !git clone 하고, deep으로 바꾸는 것 잊지 말고!\n",
        "from deep.common.functions import softmax, cross_entropy_error, sigmoid\n",
        "from deep.common.gradient import numerical_gradient\n",
        "from deep.dataset.mnist import load_mnist\n",
        "\n",
        "class TwoLayerNet:\n",
        "  def __init__(self, input_size, hidden_size, output_size, weight_init_std=0.01):\n",
        "    self.params = {} #create a dictionary\n",
        "    self.params['W1'] = weight_init_std * np.random.randn(input_size, hidden_size)\n",
        "    self.params['b1'] = np.zeros(hidden_size)\n",
        "    self.params['W2'] = weight_init_std * np.random.randn(hidden_size, output_size)\n",
        "    self.params['b2'] = np.zeros(output_size)\n",
        "\n",
        "  def predict(self, x):\n",
        "    W1, W2 = self.params['W1'], self.params['W2']\n",
        "    b1, b2 = self.params['b1'], self.params['b2']\n",
        "    a1 = np.dot(x, W1) + b1\n",
        "    z1 = sigmoid(a1)\n",
        "    a2 = np.dot(z1, W2) + b2\n",
        "    y = softmax(a2)\n",
        "    return y\n",
        "        \n",
        "  def loss(self, x, t):\n",
        "    y = self.predict(x)\n",
        "    return cross_entropy_error(y, t)\n",
        "    \n",
        "  def accuracy(self, x, t):\n",
        "    y = self.predict(x)\n",
        "    y = np.argmax(y, axis=1)\n",
        "    t = np.argmax(t, axis=1)\n",
        "        \n",
        "    accuracy = np.sum(y == t) / float(x.shape[0])\n",
        "    return accuracy\n",
        "  def numerical_gradient(self, x, t):\n",
        "    loss_W = lambda W: self.loss(x, t)\n",
        "        \n",
        "    grads = {}\n",
        "    grads['W1'] = numerical_gradient(loss_W, self.params['W1'])\n",
        "    grads['b1'] = numerical_gradient(loss_W, self.params['b1'])\n",
        "    grads['W2'] = numerical_gradient(loss_W, self.params['W2'])\n",
        "    grads['b2'] = numerical_gradient(loss_W, self.params['b2'])\n",
        "        \n",
        "    return grads\n",
        " \n",
        "\n",
        "(x_train, t_trian), (x_test, t_test) = load_mnist(normalize=True, one_hot_label=True )\n",
        "train_loss_list = []\n",
        "\n",
        "iters_num = 10\n",
        "train_size = x_train.shape[0]\n",
        "batch_size = 100\n",
        "learning_rate = 0.1\n",
        "\n",
        "network = TwoLayerNet(input_size=784, hidden_size=50, output_size=10)\n",
        "\n",
        "##########################달라진곳############################\n",
        "train_acc_list = []\n",
        "test_acc_list = []\n",
        "iter_per_epoch = max(train_size / batch_size, 1)\n",
        "##########################-----############################\n",
        "\n",
        "for i in range(iters_num):\n",
        "  print(i,'번째 학습중')\n",
        "  # mini batch   0~60000 중 100개\n",
        "  batch_mask = np.random.choice(train_size, batch_size)\n",
        "  x_batch = x_train[batch_mask]\n",
        "  t_batch = t_train[batch_mask]\n",
        "  # 기울기 계산\n",
        "  grad = network.numerical_gradient(x_batch, t_batch)\n",
        "\n",
        "  # 매개변수 갱신\n",
        "  for key in ('W1', 'b1', 'W2', 'b2'):\n",
        "    network.params[key] -= learning_rate * grad[key]\n",
        "\n",
        "  #학습 기록\n",
        "  loss = network.loss(x_batch, t_batch)\n",
        "  train_loss_list.append(loss)\n",
        "\n",
        "  ##########################달라진곳############################\n",
        "  if i % iter_per_epoch == 0:\n",
        "    train_acc = network.accuracy(x_train, t_train)\n",
        "    test_acc = network.accuracy(x_test, t_test)\n",
        "    train_acc_list.append(train_acc)\n",
        "    test_acc_list.append(test_acc)\n",
        "    print(\"train acc, test acc | \" + str(train_acc) +\",\" + str(test_acc) )\n",
        "  ##########################-----############################\n",
        "  # 너무 오래 걸리는 관계로.... "
      ],
      "metadata": {
        "id": "uy26lG03NlZb",
        "colab": {
          "base_uri": "https://localhost:8080/"
        },
        "outputId": "a26e4814-7221-491f-d7fe-9510e5a8ac1e"
      },
      "execution_count": null,
      "outputs": [
        {
          "output_type": "stream",
          "name": "stdout",
          "text": [
            "0 번째 학습중\n",
            "train acc, test acc | 0.10441666666666667,0.1028\n",
            "1 번째 학습중\n",
            "2 번째 학습중\n",
            "3 번째 학습중\n",
            "4 번째 학습중\n",
            "5 번째 학습중\n",
            "6 번째 학습중\n",
            "7 번째 학습중\n",
            "8 번째 학습중\n",
            "9 번째 학습중\n"
          ]
        }
      ]
    },
    {
      "cell_type": "markdown",
      "source": [
        "#5장 신경망학습 - 오차역전파법  backward propagation\n",
        "<br>cs231n에 나오는 계산 그래프와 연쇄법칙!\n",
        "chain rule을 이용해 미분을 빠르게 만들어준다.\n",
        "위의 방법은 100개 mini-batch를 미분해 갱신하는 데에 1분이 걸렸다."
      ],
      "metadata": {
        "id": "Hs_M1fVDaOzH"
      }
    },
    {
      "cell_type": "code",
      "source": [
        "!git clone https://github.com/WegraLee/deep-learning-from-scratch.git"
      ],
      "metadata": {
        "colab": {
          "base_uri": "https://localhost:8080/"
        },
        "id": "DMed0U1BuLb2",
        "outputId": "3bc4aa69-aa85-41b0-a7e0-695025ddc1f1"
      },
      "execution_count": null,
      "outputs": [
        {
          "output_type": "stream",
          "name": "stdout",
          "text": [
            "Cloning into 'deep-learning-from-scratch'...\n",
            "remote: Enumerating objects: 826, done.\u001b[K\n",
            "remote: Total 826 (delta 0), reused 0 (delta 0), pack-reused 826\u001b[K\n",
            "Receiving objects: 100% (826/826), 52.21 MiB | 19.92 MiB/s, done.\n",
            "Resolving deltas: 100% (477/477), done.\n"
          ]
        }
      ]
    },
    {
      "cell_type": "code",
      "source": [
        "# 아주 간단한 사과 구매 계산 그래프 = P * Q * T\n",
        "# 곱셈 Layer\n",
        "class MulLayer:\n",
        "  #self.x,  self.y 는 각 노드마다 따로 만들게 된다.\n",
        "  def __init__(self):\n",
        "    self.x = None\n",
        "    self.y = None\n",
        "  def forward(self, x, y):\n",
        "    self.x = x\n",
        "    self.y = y\n",
        "    out = x * y\n",
        "    return out\n",
        "  # 단순 곱셈이므로 서로가 미분값이 된다. \n",
        "  def backward(self, dout):\n",
        "    dx = dout * self.y\n",
        "    dy = dout * self.x\n",
        "    return dx,dy\n",
        "P = 100\n",
        "Q = 2\n",
        "T = 1.1\n",
        "\n",
        "#계층들\n",
        "mul_apple_layer = MulLayer()\n",
        "mul_tax_layer = MulLayer()\n",
        "\n",
        "#순전파\n",
        "PQ = mul_apple_layer.forward(P,Q)\n",
        "Total_Cost = mul_tax_layer.forward(PQ, T)\n",
        "\n",
        "print(Total_Cost)\n",
        "\n",
        "#역전파\n",
        "#첫 시작은 1로 두 곱셈이 서로 미분값, 그 후로는 chain처럼 계속 곱해나간다.\n",
        "dTotal_Cost = 1\n",
        "dPQ, dT = mul_tax_layer.backward(dTotal_Cost)\n",
        "dP, dQ = mul_apple_layer.backward(dPQ)\n",
        "print(dP,dQ,dT)"
      ],
      "metadata": {
        "colab": {
          "base_uri": "https://localhost:8080/"
        },
        "id": "pWsHkZHjaupc",
        "outputId": "79ddc906-e4a3-45f1-868c-213e362580b2"
      },
      "execution_count": null,
      "outputs": [
        {
          "output_type": "stream",
          "name": "stdout",
          "text": [
            "220.00000000000003\n",
            "2.2 110.00000000000001 200\n"
          ]
        }
      ]
    },
    {
      "cell_type": "code",
      "source": [
        "# sigmoid 노드 구현\n",
        "import numpy as np\n",
        "\n",
        "class Sigmoid:\n",
        "  def __init__(self):\n",
        "    self.out = None\n",
        " \n",
        "  def forward(self, x):\n",
        "    out = 1 / (1 + np.exp(-x))\n",
        "    self.out = out\n",
        "    return out\n",
        "\n",
        " # page 167 ~ 170에 왜 시그모이드의 편미분 chain이 y(1-y) 가 되는지 나온다. \n",
        "  def backward(self, dout):\n",
        "    dx = dout * (1.0 - self.out) * self.out\n",
        "    return dx"
      ],
      "metadata": {
        "id": "UC7nSC-jjkpO"
      },
      "execution_count": null,
      "outputs": []
    },
    {
      "cell_type": "code",
      "source": [
        "#affine 구현 \n",
        "#위에서 한 계산 그래프를 행렬 단위로 진행.\n",
        "# common.layers.py에 있는 affine함수 구현은 4차원 데이터까지 가능한 버전\n",
        "\n",
        "class Affine:\n",
        "  def __init__(self,W,b):\n",
        "    self.W = W\n",
        "    self.b = b\n",
        "    self.x = None\n",
        "    self.dw = None\n",
        "    self.db = None\n",
        "  def forward(self,x):\n",
        "    self.x=x\n",
        "    out = np.dot(x, self.W) + self.b\n",
        "    return out \n",
        "  #스칼라는 아니지만, 어쨋든 곱셈이므로 결국 곱한 상대가 미분값\n",
        "  def backward(self, dout):\n",
        "    dx = np.dot(dout,self.W.T)\n",
        "    self.dW = np.dot(self.x.T, dout)\n",
        "    #편향은 상수아닌가? 미분값이 있나?\n",
        "    self.db = np.sum(dout,axis=0)\n",
        "    return dx"
      ],
      "metadata": {
        "id": "rE1v3Xhqg-PI"
      },
      "execution_count": null,
      "outputs": []
    },
    {
      "cell_type": "code",
      "source": [
        "# soft max with loss 노드 구현\n",
        "\n",
        "def softmax(x):\n",
        "    if x.ndim == 2:\n",
        "        x = x.T\n",
        "        x = x - np.max(x, axis=0)\n",
        "        y = np.exp(x) / np.sum(np.exp(x), axis=0)\n",
        "        return y.T \n",
        "\n",
        "    x = x - np.max(x) # 오버플로 대책\n",
        "    return np.exp(x) / np.sum(np.exp(x))\n",
        "\n",
        "\n",
        "def cross_entropy_error(y, t):\n",
        "    if y.ndim == 1:\n",
        "        t = t.reshape(1, t.size)\n",
        "        y = y.reshape(1, y.size)\n",
        "        \n",
        "    # 훈련 데이터가 원-핫 벡터라면 정답 레이블의 인덱스로 반환\n",
        "    if t.size == y.size:\n",
        "        t = t.argmax(axis=1)\n",
        "             \n",
        "    batch_size = y.shape[0]\n",
        "    return -np.sum(np.log(y[np.arange(batch_size), t] + 1e-7)) / batch_size\n",
        "\n",
        "\n",
        "class SoftmaxWithLoss:\n",
        "  def __init__(self):\n",
        "    self.loss = None #loss\n",
        "    self.y = None  #softmax 의 출력\n",
        "    self.t = None  #정답 label(one-hot vector)\n",
        "  \n",
        "  def forward(self, x, t):\n",
        "    self.t = t\n",
        "    self.y = softmax(x)\n",
        "    self.loss = cross_entropy_error(self.y, self.t)\n",
        "    return self.loss\n",
        "  \n",
        "  def backward(self, dout=1):\n",
        "    batch_size = self.t.shape[0]\n",
        "    dx = (self.y - self.t) / batch_size\n",
        "    return dx\n",
        "  \n"
      ],
      "metadata": {
        "id": "A1NtlzQMnnko"
      },
      "execution_count": null,
      "outputs": []
    },
    {
      "cell_type": "code",
      "source": [
        "# 오차역전파법을 적용한 신경망 구현\n",
        "\n",
        "import numpy as np\n",
        "from deep.common.gradient import numerical_gradient\n",
        "# layer.py에 가서 common 앞에 deep넣어주어야함.\n",
        "from deep.common.layers import *\n",
        "from collections import OrderedDict\n",
        "\n",
        "class TwoLayerNet:\n",
        "\n",
        "  def __init__(self, input_size, hidden_size, output_size, weight_init_std=0.01):\n",
        "    self.params = {} #create a dictionary\n",
        "    self.params['W1'] = weight_init_std * np.random.randn(input_size, hidden_size)\n",
        "    self.params['b1'] = np.zeros(hidden_size)\n",
        "    self.params['W2'] = weight_init_std * np.random.randn(hidden_size, output_size)\n",
        "    self.params['b2'] = np.zeros(output_size)\n",
        "\n",
        "  #계층생성 - 순서가 있는 딕셔너리를 이용, 순전파는 순서대로 역전파는 반대로\n",
        "    self.layers = OrderedDict()\n",
        "    self.layers['Affine1'] = Affine(self.params['W1'], self.params['b1'])\n",
        "    self.layers['Relu1'] = Relu()\n",
        "    self.layers['Affine2'] = Affine(self.params['W2'], self.params['b2'])\n",
        "    \n",
        "    self.lastLayer = SoftmaxWithLoss()\n",
        "\n",
        "  def predict(self, x):\n",
        "    for layer in self.layers.values():\n",
        "      x = layer.forward(x)\n",
        "    return x\n",
        "  \n",
        "  def loss(self, x,t):\n",
        "    y = self.predict()\n",
        "    return self.lastLayer.forward(y,t)\n",
        "\n",
        "  def accuracy(self, x, t):\n",
        "    y = self.predict(x)\n",
        "    y = np.argmax(y, axis=1)\n",
        "    #one hot vector라면 1을 정답 인덱스로\n",
        "    if t.ndim != 1 : t = np.argmax(t, axis = 1 )\n",
        "      \n",
        "    accuracy = np.sum(y==t) / float(x.shape[0])\n",
        "    return accuracy \n",
        "\n",
        "  def gradient(self, x,t ):\n",
        "    #순전파\n",
        "    self.loss(x,t)\n",
        "\n",
        "    #역전파\n",
        "    dout=1\n",
        "    dout = self.lastLayer.backward(dout)\n",
        "\n",
        "    layers=list(self.layers.values())\n",
        "    layers.reverse()\n",
        "    for layer in layers:\n",
        "      dout=layer.backward(dout)\n",
        "    #result\n",
        "    grads = {}\n",
        "    grads['W1'] = self.layers['Affine1'].dW\n",
        "    grads['b1'] = self.layers['Affine1'].db\n",
        "    grads['W2'] = self.layers['Affine2'].dW\n",
        "    grads['b2'] = self.layers['Affine2'].db\n",
        "\n",
        "    return grads\n",
        "    "
      ],
      "metadata": {
        "id": "1byvqUsoqmlS"
      },
      "execution_count": null,
      "outputs": []
    },
    {
      "cell_type": "code",
      "source": [
        "#먼저 했던 수치 미분과 나중해 했던 오차역전파법 중\n",
        "# 구현이 쉽지만 더 느린 수치 미분은 오차역전파법이 제대로 되었는지 확인할 때 쓰인다.\n",
        "# 바로 위 코드 돌리고 돌려야함\n",
        "from deep.dataset.mnist import load_mnist\n",
        "from deep.ch05.two_layer_net import TwoLayerNet\n",
        "\n",
        "(x_train, t_trian), (x_test, t_test) = load_mnist(normalize=True, one_hot_label=True )\n",
        "\n",
        "network = TwoLayerNet(input_size=784, hidden_size=50, output_size=10)\n",
        "\n",
        "x_batch = x_train[:3]\n",
        "t_batch = t_trian[:3]\n",
        "\n",
        "grad_numerical = network.numerical_gradient(x_batch, t_batch)\n",
        "grad_backprop = network.gradient(x_batch, t_batch)\n",
        "\n",
        "for key in grad_numerical.keys():\n",
        "  diff = np.average( np.abs(grad_backprop[key] - grad_numerical[key]) )\n",
        "  print(key + \":\" + str(diff))\n",
        "# 아주 작은 오차면 성공!"
      ],
      "metadata": {
        "colab": {
          "base_uri": "https://localhost:8080/"
        },
        "id": "R-UxozAtxqBm",
        "outputId": "7cafaf6d-e639-4359-fb9f-ec64513b5530"
      },
      "execution_count": null,
      "outputs": [
        {
          "output_type": "stream",
          "name": "stdout",
          "text": [
            "W1:4.77772187953562e-10\n",
            "b1:2.9894537577492648e-09\n",
            "W2:6.546715693493958e-09\n",
            "b2:1.3924283003008409e-07\n"
          ]
        }
      ]
    },
    {
      "cell_type": "code",
      "source": [
        "# 오류가 없었다면, 이제 신경망 학습을 수치 미분이 아니라 오차역전법으로 진행해보자.\n",
        "# 수치 미분은 아주 오래 걸렸던 것을 기억하라!\n",
        "from deep.dataset.mnist import load_mnist\n",
        "from deep.ch05.two_layer_net import TwoLayerNet\n",
        "import numpy as np\n",
        "\n",
        "\n",
        "(x_train, t_trian), (x_test, t_test) = load_mnist(normalize=True, one_hot_label=True )\n",
        "train_loss_list = []\n",
        "\n",
        "iters_num = 1000\n",
        "train_size = x_train.shape[0]\n",
        "batch_size = 100\n",
        "learning_rate = 0.1\n",
        "\n",
        "train_acc_list = []\n",
        "test_acc_list = []\n",
        "iter_per_epoch = max(train_size / batch_size, 1)\n",
        "\n",
        "network = TwoLayerNet(input_size=784, hidden_size=50, output_size=10)\n",
        "\n",
        "for i in range(iters_num):\n",
        "  # mini batch   0~60000 중 100개\n",
        "  batch_mask = np.random.choice(train_size, batch_size)\n",
        "  x_batch = x_train[batch_mask]\n",
        "  t_batch = t_train[batch_mask]\n",
        "  ###############4장과 달라진 곳#######################\n",
        "  # grad = network.numerical_gradient(x_batch, t_batch)\n",
        "  grad = network.gradient(x_batch, t_batch) \n",
        "\n",
        "  # 매개변수 갱신\n",
        "  for key in ('W1', 'b1', 'W2', 'b2'):\n",
        "    network.params[key] -= learning_rate * grad[key]\n",
        "\n",
        "  #학습 기록\n",
        "  loss = network.loss(x_batch, t_batch)\n",
        "  train_loss_list.append(loss)\n",
        "\n",
        "  if i % iter_per_epoch == 0:\n",
        "    train_acc = network.accuracy(x_train, t_train)\n",
        "    test_acc = network.accuracy(x_test, t_test)\n",
        "    train_acc_list.append(train_acc)\n",
        "    test_acc_list.append(test_acc)\n",
        "    print(\"train acc, test acc | \" + str(train_acc) +\",\" + str(test_acc) )\n",
        "\n",
        "#train acc 와 test acc가 차이가 많이 나면 과적합!"
      ],
      "metadata": {
        "colab": {
          "base_uri": "https://localhost:8080/"
        },
        "id": "RJy7CAuuz8Ho",
        "outputId": "a0e722de-308c-4a7b-f738-8dede4e77682"
      },
      "execution_count": null,
      "outputs": [
        {
          "output_type": "stream",
          "name": "stdout",
          "text": [
            "train acc, test acc | 0.08555,0.0851\n",
            "train acc, test acc | 0.9023833333333333,0.9069\n"
          ]
        }
      ]
    },
    {
      "cell_type": "code",
      "source": [
        "import matplotlib.pyplot as plt\n",
        "# 손실이 줄었는지 확인이 된다! \n",
        "plt.plot( range(1,iters_num+1)  , train_loss_list)"
      ],
      "metadata": {
        "colab": {
          "base_uri": "https://localhost:8080/",
          "height": 283
        },
        "id": "JcCk4z_Z1lJR",
        "outputId": "aa7bd2a1-a589-47b6-aa0a-bd87c0b04d57"
      },
      "execution_count": null,
      "outputs": [
        {
          "output_type": "execute_result",
          "data": {
            "text/plain": [
              "[<matplotlib.lines.Line2D at 0x7f0db7139c40>]"
            ]
          },
          "metadata": {},
          "execution_count": 35
        },
        {
          "output_type": "display_data",
          "data": {
            "text/plain": [
              "<Figure size 432x288 with 1 Axes>"
            ],
            "image/png": "[encoded data removed]"
          },
          "metadata": {
            "needs_background": "light"
          }
        }
      ]
    },
    {
      "cell_type": "markdown",
      "source": [
        "#6장 학습 관련 기술들"
      ],
      "metadata": {
        "id": "JReknB7JLt2r"
      }
    },
    {
      "cell_type": "markdown",
      "source": [
        "<h4>최적화 방법</h4>\n",
        "1. 기울기를 계속 갱신하며 최적점을 찾아가는 SDG\n",
        "<br>-단순한 방법\n",
        "<br>-가장 가파른 기울기가 가르키는 방향이 최적점과 먼 경우 비효율적\n",
        "<br><br>\n",
        "2. momentum 운동량\n",
        "<br>-이전 갱신의 velocity를 구해 momentum을 곱하여 학습에 더해준다..(첫 V는 0)\n",
        "<br>- V = momentum * (이전 V) - learning rate * grad\n",
        "<br>+ 기울기는 V에 - , -기울기는 V에 +\n",
        "따라서 같은 방향으로 계속 움직이면 일정하게 가속하고, 지그재그 움직임은 가속도가 일정하지 않게 된다. page 196에 더 효율적인 경우가 나온다.\n",
        "<br><br>\n",
        "3. AdaGrad\n",
        "<br>-매개변수가 갱신되어 감에 따라 학습률을 감소 시킨다.\n",
        "<br>-더 많이 갱신될 수록 더 많이 감소\n",
        "<br><br>\n",
        "4. Adam - momentum + AdaGrad\n",
        "<br><br>\n",
        "모든 상황에 맞는 뛰어난 기법이란 없다. 상황에 맞게 써야 한다. "
      ],
      "metadata": {
        "id": "l9RzUqPGLxWR"
      }
    },
    {
      "cell_type": "markdown",
      "source": [
        "<h4>가중치 초기값으로 인한 기울기 소실문제:</h4>\n",
        "<bt>\n",
        "<br>초기값이 너무 크면 시그모이드 함수의 출력이 0과 1에 가까워질 때 그 미분은 0에 다가간다. 따라서 데이터가 0과 1에 치우쳐 분포하게 되면 기울기가 점점 작아지다가 사라진다. 층을 깊게 하는 딥러닝일수록 더 심각한 문제가 될 수 있다.\n",
        "<br>\n",
        "1. ReLU 를 이용할 때는, He초깃값을\n",
        "<br>\n",
        "2. sigmoid나 tanh 등 S자 모양 곡선일 때는 Xavier를 초깃값으로 하는 것이 모범사례\n",
        "<br>\n",
        "3. batch noramization을 이용할 수도 있다.\n",
        "<br> mini batch 입력데이터를 평균0, 분산 1 인 정규분포로 정규화하여 데이터가 덜 치우지게 만드는 방법.\n"
      ],
      "metadata": {
        "id": "KGaCGplyhTIo"
      }
    },
    {
      "cell_type": "markdown",
      "source": [
        "<h4>Over Fitting</h4>\n",
        "<br>매게 변수가 많고 복잡한 모델이나 훈련 데이터가 적은 경우 발생 가능\n",
        "<br>\n",
        "1. 가중치 감소 방법: W절댓값의 합, 제곱합의 루트 등 정규화 항을 손실 함수에 더하여 과적합 방지. 1/2 入 W^2\n",
        "2. dropout: 훈련 때 무작위로 노드를 삭제하여 학습하고 test 때는 모든 뉴런에 신호를 전달한다. 단, test 시 각 뉴런의 출력에 훈련 때 삭제 안 한 비율을 곱하여 출력한다. "
      ],
      "metadata": {
        "id": "HVPwv6onlyKe"
      }
    },
    {
      "cell_type": "markdown",
      "source": [
        "<h4>data 나누기</h4>\n",
        "1. 훈련 데이터: 매개변수 학습\n",
        "<br>2. 검증 데이터: 하이퍼파라미터 성능 평가\n",
        "<br>3. 시험 데이터: 신경망의 범용 성능 평가"
      ],
      "metadata": {
        "id": "Ydh8gcxhpwHO"
      }
    }
  ]
}